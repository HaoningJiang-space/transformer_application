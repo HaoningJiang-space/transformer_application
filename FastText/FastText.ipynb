{
 "cells": [
  {
   "cell_type": "code",
   "execution_count": 4,
   "metadata": {},
   "outputs": [
    {
     "name": "stdout",
     "output_type": "stream",
     "text": [
      "c:\\Users\\夜游独行\\transformer_application\\FastText\\fastText-0.2.0\n"
     ]
    },
    {
     "name": "stderr",
     "output_type": "stream",
     "text": [
      "'make' is not recognized as an internal or external command,\n",
      "operable program or batch file.\n"
     ]
    }
   ],
   "source": [
    "# !curl -o fastText-0.2.0.zip -L https://github.com/facebookresearch/fastText/archive/0.2.0.zip\n",
    "# !unzip 0.2.0.zip\n",
    "\n",
    "%cd fastText-0.2.0\n",
    "!make"
   ]
  }
 ],
 "metadata": {
  "kernelspec": {
   "display_name": "pycell",
   "language": "python",
   "name": "python3"
  },
  "language_info": {
   "codemirror_mode": {
    "name": "ipython",
    "version": 3
   },
   "file_extension": ".py",
   "mimetype": "text/x-python",
   "name": "python",
   "nbconvert_exporter": "python",
   "pygments_lexer": "ipython3",
   "version": "3.11.5"
  }
 },
 "nbformat": 4,
 "nbformat_minor": 2
}
