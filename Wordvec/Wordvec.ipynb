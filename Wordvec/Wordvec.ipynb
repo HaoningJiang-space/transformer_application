{
 "cells": [
  {
   "cell_type": "code",
   "execution_count": 7,
   "metadata": {},
   "outputs": [],
   "source": [
    "import numpy as np\n",
    "import torch\n",
    "import torch.nn as nn\n",
    "import torch.optim as optim \n",
    "import matplotlib.pyplot as plt\n"
   ]
  },
  {
   "cell_type": "code",
   "execution_count": 8,
   "metadata": {},
   "outputs": [],
   "source": [
    "\"\"\" \n",
    "函数 random_batch() 用于生成随机批次数据，返回的是随机的输入和标签数据。\n",
    "random_inputs 是随机的输入数据，random_labels 是随机的标签数据。\n",
    "random_index  是\n",
    "\"\"\"\n",
    "\n",
    "def random_batch():\n",
    "    random_inputs = []\n",
    "    random_labels = []\n",
    "    random_index = np.random.choice(range(len(skip_grams)), batch_size, replace=False)\n",
    "    \n",
    "    for i in random_index:\n",
    "        random_inputs.append(np.eye(voc_size)[skip_grams[i][0]])\n",
    "        random_labels.append(skip_grams[i][1])\n",
    "    return random_inputs, random_labels"
   ]
  },
  {
   "cell_type": "code",
   "execution_count": 9,
   "metadata": {},
   "outputs": [],
   "source": [
    "class Word2Vec(nn.Module):\n",
    "    def __init__(self):\n",
    "        super(Word2Vec, self).__init__()\n",
    "        self.W = nn.Linear(voc_size, embedding_size, bias=False)\n",
    "        self.WT = nn.Linear(embedding_size, voc_size, bias=False)\n",
    "    \n",
    "    def forward(self, X):\n",
    "        hidden_layer = self.W(X)\n",
    "        output_layer = self.WT(hidden_layer)\n",
    "        return output_layer"
   ]
  },
  {
   "cell_type": "code",
   "execution_count": 15,
   "metadata": {},
   "outputs": [
    {
     "name": "stdout",
     "output_type": "stream",
     "text": [
      "#########\n",
      "{'animal': 0, 'apple': 1, 'fruit': 2, 'banana': 3, 'orange': 4, 'cat': 5, 'monkey': 6, 'dog': 7}\n",
      "LLLLLLLLLLLLLL\n",
      "[[3, 1], [3, 2], [2, 3], [2, 3], [3, 2], [3, 4], [4, 3], [4, 2], [2, 4], [2, 4], [4, 2], [4, 3], [3, 4], [3, 2], [2, 3], [2, 7], [7, 2], [7, 5], [5, 7], [5, 0], [0, 5], [0, 5], [5, 0], [5, 6], [6, 5], [6, 0], [0, 6], [0, 6], [6, 0], [6, 7], [7, 6], [7, 0]]\n",
      "Epoch: 1000 cost = 1.396443\n",
      "Epoch: 2000 cost = 1.334986\n",
      "Epoch: 3000 cost = 1.342991\n",
      "Epoch: 4000 cost = 0.970078\n",
      "Epoch: 5000 cost = 1.896212\n"
     ]
    },
    {
     "data": {
      "image/png": "[encoded data removed]",
      "text/plain": [
       "<Figure size 640x480 with 1 Axes>"
      ]
     },
     "metadata": {},
     "output_type": "display_data"
    }
   ],
   "source": [
    "if __name__ == '__main__':\n",
    "    batch_size = 2 # mini-batch size\n",
    "    embedding_size = 2 # embedding size\n",
    "\n",
    "    sentences = [\"apple banana fruit\", \"banana orange fruit\", \"orange banana fruit\",\n",
    "                 \"dog cat animal\", \"cat monkey animal\", \"monkey dog animal\"]\n",
    "\n",
    "    word_sequence = \" \".join(sentences).split()\n",
    "    #print(word_sequence)\n",
    "    word_list = \" \".join(sentences).split()\n",
    "    print(\"#########\")\n",
    "    #print(word_list)\n",
    "    word_list = list(set(word_list)) # remove duplicate,把重复的去掉\n",
    "    #print(word_list)\n",
    "    word_dict = {w: i for i, w in enumerate(word_list)}\n",
    "    print(word_dict)\n",
    "    voc_size = len(word_list)\n",
    "\n",
    "    # Make skip gram of one size window\n",
    "    skip_grams = []\n",
    "    for i in range(1, len(word_sequence) - 1):\n",
    "        target = word_dict[word_sequence[i]]\n",
    "        context = [word_dict[word_sequence[i - 1]], word_dict[word_sequence[i + 1]]]\n",
    "        for w in context:\n",
    "            skip_grams.append([target, w])\n",
    "    print(\"LLLLLLLLLLLLLL\")\n",
    "    print(skip_grams)\n",
    "    model = Word2Vec()\n",
    "\n",
    "    criterion = nn.CrossEntropyLoss()\n",
    "    optimizer = optim.Adam(model.parameters(), lr=0.001)\n",
    "\n",
    "    # Training\n",
    "    for epoch in range(5000):\n",
    "        input_batch, target_batch = random_batch()\n",
    "        input_batch = torch.Tensor(input_batch)\n",
    "        target_batch = torch.LongTensor(target_batch)\n",
    "\n",
    "        optimizer.zero_grad()\n",
    "        output = model(input_batch)\n",
    "\n",
    "        # output : [batch_size, voc_size], target_batch : [batch_size] (LongTensor, not one-hot)\n",
    "        loss = criterion(output, target_batch)\n",
    "        if (epoch + 1) % 1000 == 0:\n",
    "            print('Epoch:', '%04d' % (epoch + 1), 'cost =', '{:.6f}'.format(loss))\n",
    "\n",
    "        loss.backward()\n",
    "        optimizer.step()\n",
    "\n",
    "    for i, label in enumerate(word_list):\n",
    "        W, WT = model.parameters()\n",
    "        x, y = W[0][i].item(), W[1][i].item()\n",
    "        plt.scatter(x, y)\n",
    "        plt.annotate(label, xy=(x, y), xytext=(5, 2), textcoords='offset points', ha='right', va='bottom')\n",
    "    plt.show()"
   ]
  },
  {
   "cell_type": "code",
   "execution_count": null,
   "metadata": {},
   "outputs": [],
   "source": []
  }
 ],
 "metadata": {
  "kernelspec": {
   "display_name": "pycell",
   "language": "python",
   "name": "python3"
  },
  "language_info": {
   "codemirror_mode": {
    "name": "ipython",
    "version": 3
   },
   "file_extension": ".py",
   "mimetype": "text/x-python",
   "name": "python",
   "nbconvert_exporter": "python",
   "pygments_lexer": "ipython3",
   "version": "3.11.5"
  }
 },
 "nbformat": 4,
 "nbformat_minor": 2
}
